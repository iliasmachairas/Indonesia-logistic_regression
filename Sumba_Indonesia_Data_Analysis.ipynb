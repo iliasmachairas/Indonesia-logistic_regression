{
 "cells": [
  {
   "cell_type": "code",
   "execution_count": 1,
   "id": "1580655a",
   "metadata": {},
   "outputs": [],
   "source": [
    "import numpy as np\n",
    "import matplotlib.pyplot as plt\n",
    "import pandas as pd\n",
    "%matplotlib inline"
   ]
  },
  {
   "cell_type": "markdown",
   "id": "b3f6c7eb",
   "metadata": {},
   "source": [
    "# Reading datasets and merging "
   ]
  },
  {
   "cell_type": "code",
   "execution_count": 7,
   "id": "83f785ba",
   "metadata": {},
   "outputs": [
    {
     "data": {
      "text/html": [
       "<div>\n",
       "<style scoped>\n",
       "    .dataframe tbody tr th:only-of-type {\n",
       "        vertical-align: middle;\n",
       "    }\n",
       "\n",
       "    .dataframe tbody tr th {\n",
       "        vertical-align: top;\n",
       "    }\n",
       "\n",
       "    .dataframe thead th {\n",
       "        text-align: right;\n",
       "    }\n",
       "</style>\n",
       "<table border=\"1\" class=\"dataframe\">\n",
       "  <thead>\n",
       "    <tr style=\"text-align: right;\">\n",
       "      <th></th>\n",
       "      <th>SubmissionDate</th>\n",
       "      <th>beginning-start</th>\n",
       "      <th>beginning-end</th>\n",
       "      <th>beginning-today</th>\n",
       "      <th>beginning-deviceid</th>\n",
       "      <th>beginning-interviewer</th>\n",
       "      <th>beginning-time_start</th>\n",
       "      <th>sectionA-code_house</th>\n",
       "      <th>sectionA-village</th>\n",
       "      <th>sectionA-sub_village</th>\n",
       "      <th>...</th>\n",
       "      <th>sectionK-storage_full</th>\n",
       "      <th>meta-instanceID</th>\n",
       "      <th>KEY</th>\n",
       "      <th>Source E. Coli</th>\n",
       "      <th>Source coliform</th>\n",
       "      <th>House E.coli</th>\n",
       "      <th>House Coliform</th>\n",
       "      <th>Water Source</th>\n",
       "      <th>House_source</th>\n",
       "      <th>Final_code</th>\n",
       "    </tr>\n",
       "  </thead>\n",
       "  <tbody>\n",
       "    <tr>\n",
       "      <th>0</th>\n",
       "      <td>NaN</td>\n",
       "      <td>Jul 22, 2019 12:57:18 PM</td>\n",
       "      <td>Jul 22, 2019 1:17:31 PM</td>\n",
       "      <td>Jul 22, 2019</td>\n",
       "      <td>352684107523743</td>\n",
       "      <td>1interviewer_list</td>\n",
       "      <td>12:27:00 PM</td>\n",
       "      <td>K_N_1</td>\n",
       "      <td>Kawangu</td>\n",
       "      <td>Kawangu</td>\n",
       "      <td>...</td>\n",
       "      <td>NaN</td>\n",
       "      <td>NaN</td>\n",
       "      <td>NaN</td>\n",
       "      <td>0</td>\n",
       "      <td>66</td>\n",
       "      <td>1</td>\n",
       "      <td>999</td>\n",
       "      <td>NaN</td>\n",
       "      <td>NaN</td>\n",
       "      <td>K_N_1</td>\n",
       "    </tr>\n",
       "    <tr>\n",
       "      <th>1</th>\n",
       "      <td>NaN</td>\n",
       "      <td>Jul 22, 2019 1:33:14 PM</td>\n",
       "      <td>Jul 22, 2019 1:54:47 PM</td>\n",
       "      <td>Jul 22, 2019</td>\n",
       "      <td>352684107523743</td>\n",
       "      <td>1interviewer_list</td>\n",
       "      <td>1:03:00 PM</td>\n",
       "      <td>K_N/S_8</td>\n",
       "      <td>Prai kilimbatu/ kawangu</td>\n",
       "      <td>Praikilimbatu</td>\n",
       "      <td>...</td>\n",
       "      <td>Full</td>\n",
       "      <td>uuid:5cd09b0d-425a-4da2-960f-38c54ed47e51</td>\n",
       "      <td>uuid:5cd09b0d-425a-4da2-960f-38c54ed47e51</td>\n",
       "      <td>2</td>\n",
       "      <td>64</td>\n",
       "      <td>4</td>\n",
       "      <td>999</td>\n",
       "      <td>NaN</td>\n",
       "      <td>NaN</td>\n",
       "      <td>K_N_8</td>\n",
       "    </tr>\n",
       "    <tr>\n",
       "      <th>2</th>\n",
       "      <td>NaN</td>\n",
       "      <td>Jul 22, 2019 2:56:58 PM</td>\n",
       "      <td>Jul 22, 2019 3:15:12 PM</td>\n",
       "      <td>Jul 22, 2019</td>\n",
       "      <td>352684107523743</td>\n",
       "      <td>1interviewer_list</td>\n",
       "      <td>2:27:00 PM</td>\n",
       "      <td>K_N/S_4</td>\n",
       "      <td>Kawangu</td>\n",
       "      <td>Kawangu</td>\n",
       "      <td>...</td>\n",
       "      <td>NaN</td>\n",
       "      <td>NaN</td>\n",
       "      <td>NaN</td>\n",
       "      <td>0</td>\n",
       "      <td>93</td>\n",
       "      <td>0</td>\n",
       "      <td>0</td>\n",
       "      <td>NaN</td>\n",
       "      <td>NaN</td>\n",
       "      <td>K_N_4</td>\n",
       "    </tr>\n",
       "    <tr>\n",
       "      <th>3</th>\n",
       "      <td>NaN</td>\n",
       "      <td>Jul 22, 2019 4:06:53 PM</td>\n",
       "      <td>Jul 22, 2019 4:24:27 PM</td>\n",
       "      <td>Jul 22, 2019</td>\n",
       "      <td>352684107523743</td>\n",
       "      <td>1interviewer_list</td>\n",
       "      <td>3:37:00 PM</td>\n",
       "      <td>K_N/S_3</td>\n",
       "      <td>KAWANGU</td>\n",
       "      <td>Kawangu</td>\n",
       "      <td>...</td>\n",
       "      <td>NaN</td>\n",
       "      <td>NaN</td>\n",
       "      <td>NaN</td>\n",
       "      <td>1</td>\n",
       "      <td>999</td>\n",
       "      <td>0</td>\n",
       "      <td>16</td>\n",
       "      <td>NaN</td>\n",
       "      <td>NaN</td>\n",
       "      <td>K_N_3</td>\n",
       "    </tr>\n",
       "    <tr>\n",
       "      <th>4</th>\n",
       "      <td>NaN</td>\n",
       "      <td>Jul 22, 2019 9:38:50 AM</td>\n",
       "      <td>Jul 22, 2019 10:17:01 AM</td>\n",
       "      <td>Jul 22, 2019</td>\n",
       "      <td>357464090825503</td>\n",
       "      <td>2interviewer_list</td>\n",
       "      <td>9:08:00 AM</td>\n",
       "      <td>K_p_2</td>\n",
       "      <td>Kawangu</td>\n",
       "      <td>Kawangu</td>\n",
       "      <td>...</td>\n",
       "      <td>Full</td>\n",
       "      <td>uuid:229f57e9-05e8-4534-958e-1c8c140ea1ee</td>\n",
       "      <td>uuid:229f57e9-05e8-4534-958e-1c8c140ea1ee</td>\n",
       "      <td>0, 0, 0</td>\n",
       "      <td>42, 999, 115</td>\n",
       "      <td>0, 0, 0</td>\n",
       "      <td>64, 70, 77</td>\n",
       "      <td>NaN</td>\n",
       "      <td>NaN</td>\n",
       "      <td>K_P_2</td>\n",
       "    </tr>\n",
       "  </tbody>\n",
       "</table>\n",
       "<p>5 rows × 106 columns</p>\n",
       "</div>"
      ],
      "text/plain": [
       "   SubmissionDate           beginning-start             beginning-end  \\\n",
       "0             NaN  Jul 22, 2019 12:57:18 PM   Jul 22, 2019 1:17:31 PM   \n",
       "1             NaN   Jul 22, 2019 1:33:14 PM   Jul 22, 2019 1:54:47 PM   \n",
       "2             NaN   Jul 22, 2019 2:56:58 PM   Jul 22, 2019 3:15:12 PM   \n",
       "3             NaN   Jul 22, 2019 4:06:53 PM   Jul 22, 2019 4:24:27 PM   \n",
       "4             NaN   Jul 22, 2019 9:38:50 AM  Jul 22, 2019 10:17:01 AM   \n",
       "\n",
       "  beginning-today  beginning-deviceid beginning-interviewer  \\\n",
       "0    Jul 22, 2019     352684107523743     1interviewer_list   \n",
       "1    Jul 22, 2019     352684107523743     1interviewer_list   \n",
       "2    Jul 22, 2019     352684107523743     1interviewer_list   \n",
       "3    Jul 22, 2019     352684107523743     1interviewer_list   \n",
       "4    Jul 22, 2019     357464090825503     2interviewer_list   \n",
       "\n",
       "  beginning-time_start sectionA-code_house         sectionA-village  \\\n",
       "0          12:27:00 PM               K_N_1                  Kawangu   \n",
       "1           1:03:00 PM             K_N/S_8  Prai kilimbatu/ kawangu   \n",
       "2           2:27:00 PM             K_N/S_4                  Kawangu   \n",
       "3           3:37:00 PM             K_N/S_3                  KAWANGU   \n",
       "4           9:08:00 AM               K_p_2                  Kawangu   \n",
       "\n",
       "  sectionA-sub_village  ...  sectionK-storage_full  \\\n",
       "0              Kawangu  ...                    NaN   \n",
       "1        Praikilimbatu  ...                   Full   \n",
       "2              Kawangu  ...                    NaN   \n",
       "3              Kawangu  ...                    NaN   \n",
       "4              Kawangu  ...                   Full   \n",
       "\n",
       "                             meta-instanceID  \\\n",
       "0                                        NaN   \n",
       "1  uuid:5cd09b0d-425a-4da2-960f-38c54ed47e51   \n",
       "2                                        NaN   \n",
       "3                                        NaN   \n",
       "4  uuid:229f57e9-05e8-4534-958e-1c8c140ea1ee   \n",
       "\n",
       "                                         KEY  Source E. Coli Source coliform  \\\n",
       "0                                        NaN               0              66   \n",
       "1  uuid:5cd09b0d-425a-4da2-960f-38c54ed47e51               2              64   \n",
       "2                                        NaN               0              93   \n",
       "3                                        NaN               1             999   \n",
       "4  uuid:229f57e9-05e8-4534-958e-1c8c140ea1ee        0, 0, 0     42, 999, 115   \n",
       "\n",
       "  House E.coli  House Coliform Water Source House_source Final_code  \n",
       "0            1             999          NaN          NaN      K_N_1  \n",
       "1            4             999          NaN          NaN      K_N_8  \n",
       "2            0               0          NaN          NaN      K_N_4  \n",
       "3            0              16          NaN          NaN      K_N_3  \n",
       "4      0, 0, 0      64, 70, 77          NaN          NaN      K_P_2  \n",
       "\n",
       "[5 rows x 106 columns]"
      ]
     },
     "execution_count": 7,
     "metadata": {},
     "output_type": "execute_result"
    }
   ],
   "source": [
    "sanitary_data = pd.read_excel(\"Dataset - Sumba_3_sanitary inspection.xlsx\", sheet_name='Sheet_2')\n",
    "sanitary_data.head()"
   ]
  },
  {
   "cell_type": "code",
   "execution_count": 9,
   "id": "186b1f6b",
   "metadata": {},
   "outputs": [
    {
     "data": {
      "text/plain": [
       "(338, 106)"
      ]
     },
     "execution_count": 9,
     "metadata": {},
     "output_type": "execute_result"
    }
   ],
   "source": [
    "sanitary_data.shape"
   ]
  },
  {
   "cell_type": "code",
   "execution_count": 17,
   "id": "f8e4598b",
   "metadata": {},
   "outputs": [
    {
     "data": {
      "text/plain": [
       "(338, 29)"
      ]
     },
     "execution_count": 17,
     "metadata": {},
     "output_type": "execute_result"
    }
   ],
   "source": [
    "data_stakeholders = pd.read_excel(\"Dataset - Sumba_2_stakeholder  willingness to pay.xlsx\", sheet_name='original data', )\n",
    "data_stakeholders.shape"
   ]
  },
  {
   "cell_type": "code",
   "execution_count": 19,
   "id": "5508e459",
   "metadata": {},
   "outputs": [
    {
     "data": {
      "text/plain": [
       "Index(['beginning-start', 'beginning-end', 'beginning-today',\n",
       "       'beginning-deviceid', 'beginning-interviewer', 'beginning-time_start',\n",
       "       'A-code_house', 'A-village', 'A-present_institution', 'A-water_board',\n",
       "       'A-funding', 'A-promotion_healthpost', 'A-promoter', 'B-payment_5k',\n",
       "       'B-payment_10k', 'B-payment_25k', 'B-payment_50k', 'B-refill_air',\n",
       "       'C-teething', 'C-water_diarrhea', 'C-toilet_hygiene_water',\n",
       "       'C-government_help', 'C-treating_taste', 'C-treating_health',\n",
       "       'C-treating_parents', 'C-treating_convenience', 'meta-instanceID',\n",
       "       'KEY', 'key2'],\n",
       "      dtype='object')"
      ]
     },
     "execution_count": 19,
     "metadata": {},
     "output_type": "execute_result"
    }
   ],
   "source": [
    "data_stakeholders.columns"
   ]
  },
  {
   "cell_type": "code",
   "execution_count": 24,
   "id": "a9363ae5",
   "metadata": {},
   "outputs": [
    {
     "data": {
      "text/plain": [
       "(282, 135)"
      ]
     },
     "execution_count": 24,
     "metadata": {},
     "output_type": "execute_result"
    }
   ],
   "source": [
    "data_merge = pd.merge(sanitary_data, data_stakeholders,how='inner', left_on='sectionA-code_house', right_on='A-code_house')\n",
    "data_merge.shape"
   ]
  },
  {
   "cell_type": "code",
   "execution_count": 35,
   "id": "78fdba99",
   "metadata": {},
   "outputs": [],
   "source": [
    "# There are some spelling erros, case diffferences (upper and lower). I eliminated them below.\n",
    "# A quick visualization gives a better insight into teh data"
   ]
  },
  {
   "cell_type": "code",
   "execution_count": 34,
   "id": "51b55879",
   "metadata": {},
   "outputs": [
    {
     "data": {
      "text/plain": [
       "<AxesSubplot:ylabel='sectionA-village'>"
      ]
     },
     "execution_count": 34,
     "metadata": {},
     "output_type": "execute_result"
    },
    {
     "data": {
      "image/png": "[encoded data removed]",
      "text/plain": [
       "<Figure size 432x288 with 1 Axes>"
      ]
     },
     "metadata": {},
     "output_type": "display_data"
    }
   ],
   "source": [
    "data_merge['sectionA-village'].value_counts().plot(kind='pie')"
   ]
  }
 ],
 "metadata": {
  "kernelspec": {
   "display_name": "Python 3",
   "language": "python",
   "name": "python3"
  },
  "language_info": {
   "codemirror_mode": {
    "name": "ipython",
    "version": 3
   },
   "file_extension": ".py",
   "mimetype": "text/x-python",
   "name": "python",
   "nbconvert_exporter": "python",
   "pygments_lexer": "ipython3",
   "version": "3.8.10"
  }
 },
 "nbformat": 4,
 "nbformat_minor": 5
}
